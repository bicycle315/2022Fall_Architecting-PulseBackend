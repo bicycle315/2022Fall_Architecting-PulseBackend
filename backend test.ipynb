{
 "cells": [
  {
   "cell_type": "code",
   "execution_count": 5,
   "metadata": {},
   "outputs": [],
   "source": [
    "import numpy as np\n",
    "\n",
    "# Importing standard Qiskit libraries\n",
    "from qiskit import QuantumCircuit, transpile, Aer, IBMQ, schedule\n",
    "from qiskit.tools.jupyter import *\n",
    "from qiskit.visualization import *\n",
    "import time\n",
    "from qiskit.providers.aer import QasmSimulator\n",
    "import numpy as np\n",
    "from qiskit_experiments.library import randomized_benchmarking as rb\n",
    "#from qiskit_experiments.library import StandardRB, InterleavedRB\n",
    "from qiskit_experiments.framework import ParallelExperiment, BatchExperiment\n",
    "from qiskit_experiments.library.randomized_benchmarking import RBUtils\n",
    "from qiskit_experiments.library import StandardRB, InterleavedRB\n",
    "import qiskit.circuit.library as circuits\n",
    "import qiskit.circuit.library\n",
    "from qiskit.circuit import Delay, Instruction\n",
    "from qiskit.circuit.library.standard_gates import XGate, SXGate, IGate, CCXGate, SGate\n",
    "from datetime import datetime\n",
    "\n",
    "from qiskit.circuit import Parameter\n",
    "from qiskit_experiments.calibration_management.calibrations import Calibrations\n",
    "# For simulation\n",
    "from qiskit.providers.aer import AerSimulator"
   ]
  },
  {
   "cell_type": "code",
   "execution_count": 2,
   "metadata": {},
   "outputs": [
    {
     "data": {
      "text/plain": [
       "[<AccountProvider for IBMQ(hub='ibm-q', group='open', project='main')>,\n",
       " <AccountProvider for IBMQ(hub='ibm-q-community', group='qamp', project='spring-22-17')>,\n",
       " <AccountProvider for IBMQ(hub='ibm-q-community', group='qamp', project='spring-22-17-2')>,\n",
       " <AccountProvider for IBMQ(hub='ibm-q-skku', group='skku', project='squirl')>,\n",
       " <AccountProvider for IBMQ(hub='ibm-q-skku', group='skku', project='skku-graduate')>]"
      ]
     },
     "execution_count": 2,
     "metadata": {},
     "output_type": "execute_result"
    }
   ],
   "source": [
    "from qiskit import IBMQ\n",
    "#IBMQ.save_account('befca44219528a564b7f4d3f53707de8985c22fb7b8c969ef2728c830de7c612716e76f41fbc0a52d65f63e71a3a2437948befd3042b1ffab4ced07d573192f1')\n",
    "IBMQ.load_account()\n",
    "IBMQ.providers()"
   ]
  },
  {
   "cell_type": "code",
   "execution_count": 3,
   "metadata": {},
   "outputs": [
    {
     "name": "stdout",
     "output_type": "stream",
     "text": [
      "ibmq_belem is on version 1.0.50. It has 5 qubits. It does not support OpenPulse programs. The basis gates supported on this device are ['id', 'rz', 'sx', 'x', 'cx', 'reset'].[[0, 1], [1, 0], [1, 2], [1, 3], [2, 1], [3, 1], [3, 4], [4, 3]] are the list of connected qubits.ibmq_belem can handle maximum 300 circuits(experiments) per job.Maximum number of active job i can have on it (cocurrent jobs that a user is able to submit to a backend) is None.\n"
     ]
    }
   ],
   "source": [
    "provider=IBMQ.providers()[3]\n",
    "#provider = IBMQ.get_provider(hub='ibm-q-community', group='qamp', project='spring-22-17')\n",
    "#backend=provider.backend.ibmq_lima\n",
    "backend = provider.get_backend('ibmq_belem')\n",
    "\n",
    "# get the basic feautures including qubit number of the backend.\n",
    "config = backend.configuration()\n",
    "backend_job_limit=backend.job_limit()\n",
    "\n",
    "print(\"{0} is on version {1}. It has {2} qubit{3}. It \"\n",
    "      \"{4} OpenPulse programs. The basis gates supported on this device are {5}.{6} are the list of connected qubits.\"\n",
    "      \"{7} can handle maximum {8} circuits(experiments) per job.\"\n",
    "      \"Maximum number of active job i can have on it (cocurrent jobs that a user is able to submit to a backend) is {9}.\"\n",
    "      \"\".format(config.backend_name,\n",
    "                config.backend_version,\n",
    "                config.n_qubits,\n",
    "                '' if config.n_qubits == 1 else 's',\n",
    "                'supports' if config.open_pulse else 'does not support',\n",
    "                config.basis_gates,\n",
    "                config.coupling_map,\n",
    "               config.backend_name,\n",
    "               config.max_experiments,\n",
    "               backend_job_limit.maximum_jobs))"
   ]
  },
  {
   "cell_type": "code",
   "execution_count": 6,
   "metadata": {},
   "outputs": [],
   "source": [
    "cals = Calibrations.from_backend(backend)"
   ]
  },
  {
   "cell_type": "code",
   "execution_count": 17,
   "metadata": {},
   "outputs": [
    {
     "ename": "CalibrationError",
     "evalue": "'Schedule xp is not defined for qubits (0,).'",
     "output_type": "error",
     "traceback": [
      "\u001b[1;31m---------------------------------------------------------------------------\u001b[0m",
      "\u001b[1;31mCalibrationError\u001b[0m                          Traceback (most recent call last)",
      "\u001b[1;32m<ipython-input-17-76f268544ec3>\u001b[0m in \u001b[0;36m<module>\u001b[1;34m\u001b[0m\n\u001b[1;32m----> 1\u001b[1;33m \u001b[0mcals\u001b[0m\u001b[1;33m.\u001b[0m\u001b[0mget_schedule\u001b[0m\u001b[1;33m(\u001b[0m\u001b[1;34m'xp'\u001b[0m\u001b[1;33m,\u001b[0m\u001b[1;33m(\u001b[0m\u001b[1;36m0\u001b[0m\u001b[1;33m,\u001b[0m\u001b[1;33m)\u001b[0m\u001b[1;33m)\u001b[0m\u001b[1;33m\u001b[0m\u001b[1;33m\u001b[0m\u001b[0m\n\u001b[0m",
      "\u001b[1;32mc:\\users\\kimje\\qiskit-experiments\\qiskit_experiments\\calibration_management\\calibrations.py\u001b[0m in \u001b[0;36mget_schedule\u001b[1;34m(self, name, qubits, assign_params, group, cutoff_date)\u001b[0m\n\u001b[0;32m   1104\u001b[0m             \u001b[0mschedule\u001b[0m \u001b[1;33m=\u001b[0m \u001b[0mself\u001b[0m\u001b[1;33m.\u001b[0m\u001b[0m_schedules\u001b[0m\u001b[1;33m[\u001b[0m\u001b[0mScheduleKey\u001b[0m\u001b[1;33m(\u001b[0m\u001b[0mname\u001b[0m\u001b[1;33m,\u001b[0m \u001b[1;33m(\u001b[0m\u001b[1;33m)\u001b[0m\u001b[1;33m)\u001b[0m\u001b[1;33m]\u001b[0m\u001b[1;33m\u001b[0m\u001b[1;33m\u001b[0m\u001b[0m\n\u001b[0;32m   1105\u001b[0m         \u001b[1;32melse\u001b[0m\u001b[1;33m:\u001b[0m\u001b[1;33m\u001b[0m\u001b[1;33m\u001b[0m\u001b[0m\n\u001b[1;32m-> 1106\u001b[1;33m             \u001b[1;32mraise\u001b[0m \u001b[0mCalibrationError\u001b[0m\u001b[1;33m(\u001b[0m\u001b[1;34mf\"Schedule {name} is not defined for qubits {qubits}.\"\u001b[0m\u001b[1;33m)\u001b[0m\u001b[1;33m\u001b[0m\u001b[1;33m\u001b[0m\u001b[0m\n\u001b[0m\u001b[0;32m   1107\u001b[0m \u001b[1;33m\u001b[0m\u001b[0m\n\u001b[0;32m   1108\u001b[0m         \u001b[1;31m# Retrieve the channel indices based on the qubits and bind them.\u001b[0m\u001b[1;33m\u001b[0m\u001b[1;33m\u001b[0m\u001b[0m\n",
      "\u001b[1;31mCalibrationError\u001b[0m: 'Schedule xp is not defined for qubits (0,).'"
     ]
    }
   ],
   "source": [
    "cals.get_schedule('xp',(0,))"
   ]
  },
  {
   "cell_type": "code",
   "execution_count": 16,
   "metadata": {},
   "outputs": [
    {
     "name": "stdout",
     "output_type": "stream",
     "text": [
      "<qiskit_experiments.calibration_management.calibrations.Calibrations object at 0x000001641CEC3730>\n"
     ]
    }
   ],
   "source": [
    "print(cals)"
   ]
  },
  {
   "cell_type": "code",
   "execution_count": 12,
   "metadata": {},
   "outputs": [],
   "source": [
    "cals.add_parameter_value(5,'drive_freq')"
   ]
  },
  {
   "cell_type": "code",
   "execution_count": 13,
   "metadata": {},
   "outputs": [
    {
     "data": {
      "text/plain": [
       "defaultdict(set,\n",
       "            {Parameter(drive_freq): {ParameterKey(parameter='drive_freq', qubits=(), schedule=None)},\n",
       "             Parameter(meas_freq): {ParameterKey(parameter='meas_freq', qubits=(), schedule=None)}})"
      ]
     },
     "execution_count": 13,
     "metadata": {},
     "output_type": "execute_result"
    }
   ],
   "source": [
    "cals.parameters\n"
   ]
  },
  {
   "cell_type": "code",
   "execution_count": 15,
   "metadata": {},
   "outputs": [
    {
     "name": "stdout",
     "output_type": "stream",
     "text": [
      "Play(Drag(duration=160, amp=(0.24659803755505416+0j), sigma=40, beta=0.6488775008745321, name='Xp_d1'), DriveChannel(1), name='Xp_d1')\n"
     ]
    }
   ],
   "source": [
    "print(backend.defaults().instruction_schedule_map.get('x',(1,)).instructions[0][1])"
   ]
  },
  {
   "cell_type": "code",
   "execution_count": 16,
   "metadata": {},
   "outputs": [
    {
     "name": "stdout",
     "output_type": "stream",
     "text": [
      "Drag(duration=160, amp=(0.24659803755505416+0j), sigma=40, beta=0.6488775008745321, name='Xp_d1')\n"
     ]
    }
   ],
   "source": [
    "print(backend.defaults().instruction_schedule_map.get('x',(1,)).instructions[0][1].pulse)"
   ]
  },
  {
   "cell_type": "code",
   "execution_count": 14,
   "metadata": {},
   "outputs": [
    {
     "name": "stdout",
     "output_type": "stream",
     "text": [
      "(0, Play(Drag(duration=160, amp=(0.24659803755505416+0j), sigma=40, beta=0.6488775008745321, name='Xp_d1'), DriveChannel(1), name='Xp_d1'))\n"
     ]
    }
   ],
   "source": [
    "print(backend.defaults().instruction_schedule_map.get('x',(1,)).instructions[0])"
   ]
  },
  {
   "cell_type": "code",
   "execution_count": 22,
   "metadata": {},
   "outputs": [
    {
     "name": "stdout",
     "output_type": "stream",
     "text": [
      "Schedule((0, Play(Drag(duration=160, amp=(0.12338384889872352+0.005487369613793507j), sigma=40, beta=-2.459202708917089, name='X90p_d0'), DriveChannel(0), name='X90p_d0')), name=\"sx\")\n"
     ]
    }
   ],
   "source": [
    "print(backend.defaults().instruction_schedule_map.get('sx', (0,)))"
   ]
  },
  {
   "cell_type": "code",
   "execution_count": 23,
   "metadata": {},
   "outputs": [
    {
     "name": "stdout",
     "output_type": "stream",
     "text": [
      "Schedule((0, Play(Drag(duration=160, amp=(0.2556080519038154+0j), sigma=40, beta=-2.4187011998773236, name='Xp_d0'), DriveChannel(0), name='Xp_d0')), name=\"x\")\n"
     ]
    }
   ],
   "source": [
    "print(backend.defaults().instruction_schedule_map.get('x', (0,)))"
   ]
  },
  {
   "cell_type": "code",
   "execution_count": 24,
   "metadata": {},
   "outputs": [
    {
     "name": "stdout",
     "output_type": "stream",
     "text": [
      "Schedule((0, Play(Waveform(array([0.+0.j, 0.+0.j, 0.+0.j, 0.+0.j, 0.+0.j, 0.+0.j, 0.+0.j, 0.+0.j,\n",
      "       0.+0.j, 0.+0.j, 0.+0.j, 0.+0.j, 0.+0.j, 0.+0.j, 0.+0.j, 0.+0.j,\n",
      "       0.+0.j, 0.+0.j, 0.+0.j, 0.+0.j, 0.+0.j, 0.+0.j, 0.+0.j, 0.+0.j,\n",
      "       0.+0.j, 0.+0.j, 0.+0.j, 0.+0.j, 0.+0.j, 0.+0.j, 0.+0.j, 0.+0.j,\n",
      "       0.+0.j, 0.+0.j, 0.+0.j, 0.+0.j, 0.+0.j, 0.+0.j, 0.+0.j, 0.+0.j,\n",
      "       0.+0.j, 0.+0.j, 0.+0.j, 0.+0.j, 0.+0.j, 0.+0.j, 0.+0.j, 0.+0.j,\n",
      "       0.+0.j, 0.+0.j, 0.+0.j, 0.+0.j, 0.+0.j, 0.+0.j, 0.+0.j, 0.+0.j,\n",
      "       0.+0.j, 0.+0.j, 0.+0.j, 0.+0.j, 0.+0.j, 0.+0.j, 0.+0.j, 0.+0.j,\n",
      "       0.+0.j, 0.+0.j, 0.+0.j, 0.+0.j, 0.+0.j, 0.+0.j, 0.+0.j, 0.+0.j,\n",
      "       0.+0.j, 0.+0.j, 0.+0.j, 0.+0.j, 0.+0.j, 0.+0.j, 0.+0.j, 0.+0.j,\n",
      "       0.+0.j, 0.+0.j, 0.+0.j, 0.+0.j, 0.+0.j, 0.+0.j, 0.+0.j, 0.+0.j,\n",
      "       0.+0.j, 0.+0.j, 0.+0.j, 0.+0.j, 0.+0.j, 0.+0.j, 0.+0.j, 0.+0.j,\n",
      "       0.+0.j, 0.+0.j, 0.+0.j, 0.+0.j, 0.+0.j, 0.+0.j, 0.+0.j, 0.+0.j,\n",
      "       0.+0.j, 0.+0.j, 0.+0.j, 0.+0.j, 0.+0.j, 0.+0.j, 0.+0.j, 0.+0.j,\n",
      "       0.+0.j, 0.+0.j, 0.+0.j, 0.+0.j, 0.+0.j, 0.+0.j, 0.+0.j, 0.+0.j,\n",
      "       0.+0.j, 0.+0.j, 0.+0.j, 0.+0.j, 0.+0.j, 0.+0.j, 0.+0.j, 0.+0.j,\n",
      "       0.+0.j, 0.+0.j, 0.+0.j, 0.+0.j, 0.+0.j, 0.+0.j, 0.+0.j, 0.+0.j,\n",
      "       0.+0.j, 0.+0.j, 0.+0.j, 0.+0.j, 0.+0.j, 0.+0.j, 0.+0.j, 0.+0.j,\n",
      "       0.+0.j, 0.+0.j, 0.+0.j, 0.+0.j, 0.+0.j, 0.+0.j, 0.+0.j, 0.+0.j,\n",
      "       0.+0.j, 0.+0.j, 0.+0.j, 0.+0.j, 0.+0.j, 0.+0.j, 0.+0.j, 0.+0.j]), name='QId_d0'), DriveChannel(0), name='QId_d0')), name=\"id\")\n"
     ]
    }
   ],
   "source": [
    "print(backend.defaults().instruction_schedule_map.get('id', (0,)))"
   ]
  },
  {
   "cell_type": "code",
   "execution_count": 25,
   "metadata": {},
   "outputs": [
    {
     "name": "stdout",
     "output_type": "stream",
     "text": [
      "Schedule((0, ShiftPhase(-3.141592653589793, DriveChannel(0))), (0, ShiftPhase(-1.5707963267948966, DriveChannel(1))), (0, ShiftPhase(-1.5707963267948966, ControlChannel(0))), (0, ShiftPhase(-3.141592653589793, ControlChannel(1))), (0, ShiftPhase(-1.5707963267948966, ControlChannel(4))), (0, ShiftPhase(-1.5707963267948966, ControlChannel(5))), (0, Play(Drag(duration=160, amp=(-0.00548736961379351+0.12338384889872352j), sigma=40, beta=-2.459202708917089, name='Y90p_d0'), DriveChannel(0), name='Y90p_d0')), (0, Play(Drag(duration=160, amp=(0.11935921573597799+0.0023128406808406456j), sigma=40, beta=0.6643204672670971, name='X90p_d1'), DriveChannel(1), name='X90p_d1')), (160, Play(GaussianSquare(duration=1584, amp=(0.022135754720986243+0.004321499197552103j), sigma=64, width=1328, name='CR90p_d0_u1'), DriveChannel(0), name='CR90p_d0_u1')), (160, Play(GaussianSquare(duration=1584, amp=(-0.1369366200673462+0.047374757126980735j), sigma=64, width=1328, name='CR90p_u1'), ControlChannel(1), name='CR90p_u1')), (1744, Play(Drag(duration=160, amp=(0.24659803755505416+0j), sigma=40, beta=0.6488775008745321, name='Xp_d1'), DriveChannel(1), name='Xp_d1')), (1904, Play(GaussianSquare(duration=1584, amp=(-0.022135754720986243-0.0043214991975521j), sigma=64, width=1328, name='CR90m_d0_u1'), DriveChannel(0), name='CR90m_d0_u1')), (1904, Play(GaussianSquare(duration=1584, amp=(0.1369366200673462-0.04737475712698075j), sigma=64, width=1328, name='CR90m_u1'), ControlChannel(1), name='CR90m_u1')), (3488, ShiftPhase(-1.5707963267948966, DriveChannel(0))), (3488, ShiftPhase(-1.5707963267948966, ControlChannel(1))), (3488, Play(Drag(duration=160, amp=(0.12338384889872352+0.005487369613793507j), sigma=40, beta=-2.459202708917089, name='X90p_d0'), DriveChannel(0), name='X90p_d0')), (3488, Play(Drag(duration=160, amp=(0.002312840680840613-0.11935921573597799j), sigma=40, beta=0.6643204672670971, name='Y90m_d1'), DriveChannel(1), name='Y90m_d1')), name=\"cx\")\n"
     ]
    }
   ],
   "source": [
    "print(backend.defaults().instruction_schedule_map.get('cx', (0,1)))"
   ]
  },
  {
   "cell_type": "code",
   "execution_count": 5,
   "metadata": {},
   "outputs": [
    {
     "name": "stdout",
     "output_type": "stream",
     "text": [
      "<PulseDefaults(<InstructionScheduleMap(1Q instructions:\n",
      "  q0: {'sx', 'u2', 'u3', 'id', 'rz', 'x', 'u1', 'measure'}\n",
      "  q1: {'sx', 'u2', 'u3', 'id', 'rz', 'x', 'u1', 'measure'}\n",
      "  q2: {'sx', 'u2', 'u3', 'id', 'rz', 'x', 'u1', 'measure'}\n",
      "  q3: {'sx', 'u2', 'u3', 'id', 'rz', 'x', 'u1', 'measure'}\n",
      "  q4: {'sx', 'u2', 'u3', 'id', 'rz', 'x', 'u1', 'measure'}\n",
      "Multi qubit instructions:\n",
      "  (0, 1): {'cx'}\n",
      "  (1, 0): {'cx'}\n",
      "  (1, 2): {'cx'}\n",
      "  (1, 3): {'cx'}\n",
      "  (2, 1): {'cx'}\n",
      "  (3, 1): {'cx'}\n",
      "  (0, 1, 2, 3, 4): {'measure'}\n",
      ")>Qubit Frequencies [GHz]\n",
      "[5.090215187962305, 5.245528840279351, 5.361492855859864, 5.1703881423849465, 5.254553035940048]\n",
      "Measurement Frequencies [GHz]\n",
      "[7.301574705, 7.393433372, 7.360065181, 7.303382327, 7.426223338] )>\n"
     ]
    }
   ],
   "source": [
    "print(backend.defaults())"
   ]
  }
 ],
 "metadata": {
  "interpreter": {
   "hash": "f5099486be7cb007c45d59bc5fedd98e4e61c6eb8ee07dacbf786d781e9372c8"
  },
  "kernelspec": {
   "display_name": "Python 3.9.12 ('devenv')",
   "language": "python",
   "name": "python3"
  },
  "language_info": {
   "codemirror_mode": {
    "name": "ipython",
    "version": 3
   },
   "file_extension": ".py",
   "mimetype": "text/x-python",
   "name": "python",
   "nbconvert_exporter": "python",
   "pygments_lexer": "ipython3",
   "version": "3.9.12"
  },
  "orig_nbformat": 4
 },
 "nbformat": 4,
 "nbformat_minor": 2
}
