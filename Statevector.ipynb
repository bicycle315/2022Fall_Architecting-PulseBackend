{
 "cells": [
  {
   "cell_type": "code",
   "execution_count": 36,
   "metadata": {},
   "outputs": [
    {
     "data": {
      "text/plain": [
       "{'000': 281, '010': 249, '100': 249, '110': 245}"
      ]
     },
     "execution_count": 36,
     "metadata": {},
     "output_type": "execute_result"
    }
   ],
   "source": [
    "from qiskit.quantum_info import Statevector\n",
    "from qiskit.quantum_info import Operator\n",
    "from qiskit.circuit.library import XGate\n",
    "\n",
    "psi = Statevector.from_label('++0')\n",
    "psi.sample_counts(1024)"
   ]
  },
  {
   "cell_type": "code",
   "execution_count": 38,
   "metadata": {},
   "outputs": [],
   "source": [
    "a=Operator(XGate())"
   ]
  },
  {
   "cell_type": "code",
   "execution_count": 39,
   "metadata": {},
   "outputs": [
    {
     "ename": "QiskitError",
     "evalue": "'Input Operator is not a column-vector.'",
     "output_type": "error",
     "traceback": [
      "\u001b[1;31m---------------------------------------------------------------------------\u001b[0m",
      "\u001b[1;31mQiskitError\u001b[0m                               Traceback (most recent call last)",
      "\u001b[1;32mc:\\Users\\kimje\\Desktop\\Project\\2022Fall_Architecting-PulseBackend\\Statevector.ipynb 셀 3\u001b[0m in \u001b[0;36m<cell line: 1>\u001b[1;34m()\u001b[0m\n\u001b[1;32m----> <a href='vscode-notebook-cell:/c%3A/Users/kimje/Desktop/Project/2022Fall_Architecting-PulseBackend/Statevector.ipynb#X10sZmlsZQ%3D%3D?line=0'>1</a>\u001b[0m Statevector(a)\n",
      "File \u001b[1;32mc:\\Users\\kimje\\anaconda3\\envs\\qiskit_JW\\lib\\site-packages\\qiskit\\quantum_info\\states\\statevector.py:86\u001b[0m, in \u001b[0;36mStatevector.__init__\u001b[1;34m(self, data, dims)\u001b[0m\n\u001b[0;32m     84\u001b[0m     input_dim, _ \u001b[39m=\u001b[39m data\u001b[39m.\u001b[39mdim\n\u001b[0;32m     85\u001b[0m     \u001b[39mif\u001b[39;00m input_dim \u001b[39m!=\u001b[39m \u001b[39m1\u001b[39m:\n\u001b[1;32m---> 86\u001b[0m         \u001b[39mraise\u001b[39;00m QiskitError(\u001b[39m\"\u001b[39m\u001b[39mInput Operator is not a column-vector.\u001b[39m\u001b[39m\"\u001b[39m)\n\u001b[0;32m     87\u001b[0m     \u001b[39mself\u001b[39m\u001b[39m.\u001b[39m_data \u001b[39m=\u001b[39m np\u001b[39m.\u001b[39mravel(data\u001b[39m.\u001b[39mdata)\n\u001b[0;32m     88\u001b[0m \u001b[39melif\u001b[39;00m \u001b[39misinstance\u001b[39m(data, (QuantumCircuit, Instruction)):\n",
      "\u001b[1;31mQiskitError\u001b[0m: 'Input Operator is not a column-vector.'"
     ]
    }
   ],
   "source": [
    "Statevector(a)"
   ]
  },
  {
   "cell_type": "code",
   "execution_count": 43,
   "metadata": {},
   "outputs": [],
   "source": [
    "import numpy as np\n",
    "b=np.array([[1,0,0],\n",
    "            [0,1,0],\n",
    "            [0,0,1]])"
   ]
  },
  {
   "cell_type": "code",
   "execution_count": 44,
   "metadata": {},
   "outputs": [
    {
     "ename": "QiskitError",
     "evalue": "'Invalid input: not a vector or column-vector.'",
     "output_type": "error",
     "traceback": [
      "\u001b[1;31m---------------------------------------------------------------------------\u001b[0m",
      "\u001b[1;31mQiskitError\u001b[0m                               Traceback (most recent call last)",
      "\u001b[1;32mc:\\Users\\kimje\\Desktop\\Project\\2022Fall_Architecting-PulseBackend\\Statevector.ipynb 셀 5\u001b[0m in \u001b[0;36m<cell line: 1>\u001b[1;34m()\u001b[0m\n\u001b[1;32m----> <a href='vscode-notebook-cell:/c%3A/Users/kimje/Desktop/Project/2022Fall_Architecting-PulseBackend/Statevector.ipynb#X12sZmlsZQ%3D%3D?line=0'>1</a>\u001b[0m Statevector(b)\n",
      "File \u001b[1;32mc:\\Users\\kimje\\anaconda3\\envs\\qiskit_JW\\lib\\site-packages\\qiskit\\quantum_info\\states\\statevector.py:101\u001b[0m, in \u001b[0;36mStatevector.__init__\u001b[1;34m(self, data, dims)\u001b[0m\n\u001b[0;32m     99\u001b[0m         shape \u001b[39m=\u001b[39m \u001b[39mself\u001b[39m\u001b[39m.\u001b[39m_data\u001b[39m.\u001b[39mshape\n\u001b[0;32m    100\u001b[0m     \u001b[39melif\u001b[39;00m ndim \u001b[39m!=\u001b[39m \u001b[39m2\u001b[39m \u001b[39mor\u001b[39;00m shape[\u001b[39m1\u001b[39m] \u001b[39m!=\u001b[39m \u001b[39m1\u001b[39m:\n\u001b[1;32m--> 101\u001b[0m         \u001b[39mraise\u001b[39;00m QiskitError(\u001b[39m\"\u001b[39m\u001b[39mInvalid input: not a vector or column-vector.\u001b[39m\u001b[39m\"\u001b[39m)\n\u001b[0;32m    102\u001b[0m \u001b[39msuper\u001b[39m()\u001b[39m.\u001b[39m\u001b[39m__init__\u001b[39m(op_shape\u001b[39m=\u001b[39mOpShape\u001b[39m.\u001b[39mauto(shape\u001b[39m=\u001b[39mshape, dims_l\u001b[39m=\u001b[39mdims, num_qubits_r\u001b[39m=\u001b[39m\u001b[39m0\u001b[39m))\n",
      "\u001b[1;31mQiskitError\u001b[0m: 'Invalid input: not a vector or column-vector.'"
     ]
    }
   ],
   "source": [
    "Statevector(b)"
   ]
  },
  {
   "cell_type": "code",
   "execution_count": 45,
   "metadata": {},
   "outputs": [
    {
     "data": {
      "text/plain": [
       "<qiskit.circuit.instructionset.InstructionSet at 0x158e6604430>"
      ]
     },
     "execution_count": 45,
     "metadata": {},
     "output_type": "execute_result"
    }
   ],
   "source": [
    "from qiskit import QuantumCircuit\n",
    "qc=QuantumCircuit(2)\n",
    "qc.x(0)"
   ]
  },
  {
   "cell_type": "code",
   "execution_count": 46,
   "metadata": {},
   "outputs": [
    {
     "name": "stdout",
     "output_type": "stream",
     "text": [
      "Statevector([0.+0.j, 1.+0.j, 0.+0.j, 0.+0.j],\n",
      "            dims=(2, 2))\n"
     ]
    }
   ],
   "source": [
    "Statevector(qc)"
   ]
  },
  {
   "cell_type": "code",
   "execution_count": null,
   "metadata": {},
   "outputs": [],
   "source": []
  }
 ],
 "metadata": {
  "kernelspec": {
   "display_name": "Python 3.9.12 ('qiskit_JW')",
   "language": "python",
   "name": "python3"
  },
  "language_info": {
   "codemirror_mode": {
    "name": "ipython",
    "version": 3
   },
   "file_extension": ".py",
   "mimetype": "text/x-python",
   "name": "python",
   "nbconvert_exporter": "python",
   "pygments_lexer": "ipython3",
   "version": "3.9.12"
  },
  "orig_nbformat": 4,
  "vscode": {
   "interpreter": {
    "hash": "6f87e7aa2a8f4f81c1020791ce2abad4b6f03ff634b41e7db0979db01ec3a350"
   }
  }
 },
 "nbformat": 4,
 "nbformat_minor": 2
}
